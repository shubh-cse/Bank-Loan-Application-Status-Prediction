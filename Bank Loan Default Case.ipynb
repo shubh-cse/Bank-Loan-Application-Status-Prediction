{
 "cells": [
  {
   "cell_type": "markdown",
   "metadata": {},
   "source": [
    "# <center><i>BanK Loan Default Case</i></center>"
   ]
  },
  {
   "cell_type": "code",
   "execution_count": 1,
   "metadata": {},
   "outputs": [],
   "source": [
    "#importing libraries\n",
    "import os\n",
    "import numpy as np \n",
    "import pandas as pd\n",
    "import matplotlib.pyplot as plt\n",
    "import seaborn as sns\n",
    "from statsmodels.stats.outliers_influence import variance_inflation_factor\n",
    "from sklearn.model_selection import train_test_split\n",
    "from sklearn.metrics import roc_curve\n",
    "from sklearn.metrics import roc_auc_score\n",
    "from sklearn.ensemble import RandomForestClassifier\n",
    "from sklearn.tree import DecisionTreeClassifier\n",
    "from sklearn.preprocessing import StandardScaler\n",
    "from sklearn.ensemble import RandomForestClassifier\n",
    "from sklearn.feature_selection import SelectFromModel\n",
    "from sklearn.model_selection import train_test_split\n",
    "from sklearn.linear_model import LinearRegression\n",
    "from sklearn.linear_model import LogisticRegression\n",
    "from sklearn.metrics  import confusion_matrix\n",
    "from sklearn.model_selection import cross_val_score,cross_validate\n",
    "from sklearn.model_selection import GridSearchCV\n",
    "from sklearn.metrics import roc_curve,auc\n",
    "from sklearn.metrics import roc_auc_score,precision_recall_curve\n",
    "from sklearn.model_selection import RandomizedSearchCV\n",
    "from xgboost import XGBClassifier\n",
    "%matplotlib inline"
   ]
  },
  {
   "cell_type": "code",
   "execution_count": 62,
   "metadata": {},
   "outputs": [],
   "source": [
    "#path for dataset\n",
    "os.chdir(\"C://Users//Shubh Gupta//Desktop//DataScience//Project//Bank-loan\")"
   ]
  },
  {
   "cell_type": "code",
   "execution_count": 63,
   "metadata": {},
   "outputs": [],
   "source": [
    "#loading the dataset\n",
    "df=pd.read_csv(\"bank-loan.csv\")"
   ]
  },
  {
   "cell_type": "code",
   "execution_count": 64,
   "metadata": {},
   "outputs": [
    {
     "data": {
      "text/html": [
       "<div>\n",
       "<style scoped>\n",
       "    .dataframe tbody tr th:only-of-type {\n",
       "        vertical-align: middle;\n",
       "    }\n",
       "\n",
       "    .dataframe tbody tr th {\n",
       "        vertical-align: top;\n",
       "    }\n",
       "\n",
       "    .dataframe thead th {\n",
       "        text-align: right;\n",
       "    }\n",
       "</style>\n",
       "<table border=\"1\" class=\"dataframe\">\n",
       "  <thead>\n",
       "    <tr style=\"text-align: right;\">\n",
       "      <th></th>\n",
       "      <th>age</th>\n",
       "      <th>ed</th>\n",
       "      <th>employ</th>\n",
       "      <th>address</th>\n",
       "      <th>income</th>\n",
       "      <th>debtinc</th>\n",
       "      <th>creddebt</th>\n",
       "      <th>othdebt</th>\n",
       "      <th>default</th>\n",
       "    </tr>\n",
       "  </thead>\n",
       "  <tbody>\n",
       "    <tr>\n",
       "      <th>0</th>\n",
       "      <td>41</td>\n",
       "      <td>3</td>\n",
       "      <td>17</td>\n",
       "      <td>12</td>\n",
       "      <td>176</td>\n",
       "      <td>9.3</td>\n",
       "      <td>11.359392</td>\n",
       "      <td>5.008608</td>\n",
       "      <td>1.0</td>\n",
       "    </tr>\n",
       "    <tr>\n",
       "      <th>1</th>\n",
       "      <td>27</td>\n",
       "      <td>1</td>\n",
       "      <td>10</td>\n",
       "      <td>6</td>\n",
       "      <td>31</td>\n",
       "      <td>17.3</td>\n",
       "      <td>1.362202</td>\n",
       "      <td>4.000798</td>\n",
       "      <td>0.0</td>\n",
       "    </tr>\n",
       "    <tr>\n",
       "      <th>2</th>\n",
       "      <td>40</td>\n",
       "      <td>1</td>\n",
       "      <td>15</td>\n",
       "      <td>14</td>\n",
       "      <td>55</td>\n",
       "      <td>5.5</td>\n",
       "      <td>0.856075</td>\n",
       "      <td>2.168925</td>\n",
       "      <td>0.0</td>\n",
       "    </tr>\n",
       "    <tr>\n",
       "      <th>3</th>\n",
       "      <td>41</td>\n",
       "      <td>1</td>\n",
       "      <td>15</td>\n",
       "      <td>14</td>\n",
       "      <td>120</td>\n",
       "      <td>2.9</td>\n",
       "      <td>2.658720</td>\n",
       "      <td>0.821280</td>\n",
       "      <td>0.0</td>\n",
       "    </tr>\n",
       "    <tr>\n",
       "      <th>4</th>\n",
       "      <td>24</td>\n",
       "      <td>2</td>\n",
       "      <td>2</td>\n",
       "      <td>0</td>\n",
       "      <td>28</td>\n",
       "      <td>17.3</td>\n",
       "      <td>1.787436</td>\n",
       "      <td>3.056564</td>\n",
       "      <td>1.0</td>\n",
       "    </tr>\n",
       "  </tbody>\n",
       "</table>\n",
       "</div>"
      ],
      "text/plain": [
       "   age  ed  employ  address  income  debtinc   creddebt   othdebt  default\n",
       "0   41   3      17       12     176      9.3  11.359392  5.008608      1.0\n",
       "1   27   1      10        6      31     17.3   1.362202  4.000798      0.0\n",
       "2   40   1      15       14      55      5.5   0.856075  2.168925      0.0\n",
       "3   41   1      15       14     120      2.9   2.658720  0.821280      0.0\n",
       "4   24   2       2        0      28     17.3   1.787436  3.056564      1.0"
      ]
     },
     "execution_count": 64,
     "metadata": {},
     "output_type": "execute_result"
    }
   ],
   "source": [
    "#exploring the dataset\n",
    "df.head()"
   ]
  },
  {
   "cell_type": "code",
   "execution_count": 65,
   "metadata": {},
   "outputs": [
    {
     "data": {
      "text/plain": [
       "(850, 9)"
      ]
     },
     "execution_count": 65,
     "metadata": {},
     "output_type": "execute_result"
    }
   ],
   "source": [
    "#shape of the dataset\n",
    "df.shape"
   ]
  },
  {
   "cell_type": "code",
   "execution_count": 66,
   "metadata": {},
   "outputs": [
    {
     "data": {
      "text/html": [
       "<div>\n",
       "<style scoped>\n",
       "    .dataframe tbody tr th:only-of-type {\n",
       "        vertical-align: middle;\n",
       "    }\n",
       "\n",
       "    .dataframe tbody tr th {\n",
       "        vertical-align: top;\n",
       "    }\n",
       "\n",
       "    .dataframe thead th {\n",
       "        text-align: right;\n",
       "    }\n",
       "</style>\n",
       "<table border=\"1\" class=\"dataframe\">\n",
       "  <thead>\n",
       "    <tr style=\"text-align: right;\">\n",
       "      <th></th>\n",
       "      <th>age</th>\n",
       "      <th>ed</th>\n",
       "      <th>employ</th>\n",
       "      <th>address</th>\n",
       "      <th>income</th>\n",
       "      <th>debtinc</th>\n",
       "      <th>creddebt</th>\n",
       "      <th>othdebt</th>\n",
       "      <th>default</th>\n",
       "    </tr>\n",
       "  </thead>\n",
       "  <tbody>\n",
       "    <tr>\n",
       "      <th>count</th>\n",
       "      <td>850.000000</td>\n",
       "      <td>850.000000</td>\n",
       "      <td>850.000000</td>\n",
       "      <td>850.000000</td>\n",
       "      <td>850.000000</td>\n",
       "      <td>850.000000</td>\n",
       "      <td>850.000000</td>\n",
       "      <td>850.000000</td>\n",
       "      <td>700.000000</td>\n",
       "    </tr>\n",
       "    <tr>\n",
       "      <th>mean</th>\n",
       "      <td>35.029412</td>\n",
       "      <td>1.710588</td>\n",
       "      <td>8.565882</td>\n",
       "      <td>8.371765</td>\n",
       "      <td>46.675294</td>\n",
       "      <td>10.171647</td>\n",
       "      <td>1.576805</td>\n",
       "      <td>3.078789</td>\n",
       "      <td>0.261429</td>\n",
       "    </tr>\n",
       "    <tr>\n",
       "      <th>std</th>\n",
       "      <td>8.041432</td>\n",
       "      <td>0.927784</td>\n",
       "      <td>6.777884</td>\n",
       "      <td>6.895016</td>\n",
       "      <td>38.543054</td>\n",
       "      <td>6.719441</td>\n",
       "      <td>2.125840</td>\n",
       "      <td>3.398803</td>\n",
       "      <td>0.439727</td>\n",
       "    </tr>\n",
       "    <tr>\n",
       "      <th>min</th>\n",
       "      <td>20.000000</td>\n",
       "      <td>1.000000</td>\n",
       "      <td>0.000000</td>\n",
       "      <td>0.000000</td>\n",
       "      <td>13.000000</td>\n",
       "      <td>0.100000</td>\n",
       "      <td>0.011696</td>\n",
       "      <td>0.045584</td>\n",
       "      <td>0.000000</td>\n",
       "    </tr>\n",
       "    <tr>\n",
       "      <th>25%</th>\n",
       "      <td>29.000000</td>\n",
       "      <td>1.000000</td>\n",
       "      <td>3.000000</td>\n",
       "      <td>3.000000</td>\n",
       "      <td>24.000000</td>\n",
       "      <td>5.100000</td>\n",
       "      <td>0.382176</td>\n",
       "      <td>1.045942</td>\n",
       "      <td>0.000000</td>\n",
       "    </tr>\n",
       "    <tr>\n",
       "      <th>50%</th>\n",
       "      <td>34.000000</td>\n",
       "      <td>1.000000</td>\n",
       "      <td>7.000000</td>\n",
       "      <td>7.000000</td>\n",
       "      <td>35.000000</td>\n",
       "      <td>8.700000</td>\n",
       "      <td>0.885091</td>\n",
       "      <td>2.003243</td>\n",
       "      <td>0.000000</td>\n",
       "    </tr>\n",
       "    <tr>\n",
       "      <th>75%</th>\n",
       "      <td>41.000000</td>\n",
       "      <td>2.000000</td>\n",
       "      <td>13.000000</td>\n",
       "      <td>12.000000</td>\n",
       "      <td>55.750000</td>\n",
       "      <td>13.800000</td>\n",
       "      <td>1.898440</td>\n",
       "      <td>3.903001</td>\n",
       "      <td>1.000000</td>\n",
       "    </tr>\n",
       "    <tr>\n",
       "      <th>max</th>\n",
       "      <td>56.000000</td>\n",
       "      <td>5.000000</td>\n",
       "      <td>33.000000</td>\n",
       "      <td>34.000000</td>\n",
       "      <td>446.000000</td>\n",
       "      <td>41.300000</td>\n",
       "      <td>20.561310</td>\n",
       "      <td>35.197500</td>\n",
       "      <td>1.000000</td>\n",
       "    </tr>\n",
       "  </tbody>\n",
       "</table>\n",
       "</div>"
      ],
      "text/plain": [
       "              age          ed      employ     address      income     debtinc  \\\n",
       "count  850.000000  850.000000  850.000000  850.000000  850.000000  850.000000   \n",
       "mean    35.029412    1.710588    8.565882    8.371765   46.675294   10.171647   \n",
       "std      8.041432    0.927784    6.777884    6.895016   38.543054    6.719441   \n",
       "min     20.000000    1.000000    0.000000    0.000000   13.000000    0.100000   \n",
       "25%     29.000000    1.000000    3.000000    3.000000   24.000000    5.100000   \n",
       "50%     34.000000    1.000000    7.000000    7.000000   35.000000    8.700000   \n",
       "75%     41.000000    2.000000   13.000000   12.000000   55.750000   13.800000   \n",
       "max     56.000000    5.000000   33.000000   34.000000  446.000000   41.300000   \n",
       "\n",
       "         creddebt     othdebt     default  \n",
       "count  850.000000  850.000000  700.000000  \n",
       "mean     1.576805    3.078789    0.261429  \n",
       "std      2.125840    3.398803    0.439727  \n",
       "min      0.011696    0.045584    0.000000  \n",
       "25%      0.382176    1.045942    0.000000  \n",
       "50%      0.885091    2.003243    0.000000  \n",
       "75%      1.898440    3.903001    1.000000  \n",
       "max     20.561310   35.197500    1.000000  "
      ]
     },
     "execution_count": 66,
     "metadata": {},
     "output_type": "execute_result"
    }
   ],
   "source": [
    "#describing the dataset\n",
    "df.describe()"
   ]
  },
  {
   "cell_type": "markdown",
   "metadata": {},
   "source": [
    "# Missing Value Analysis"
   ]
  },
  {
   "cell_type": "code",
   "execution_count": 67,
   "metadata": {},
   "outputs": [
    {
     "data": {
      "text/html": [
       "<div>\n",
       "<style scoped>\n",
       "    .dataframe tbody tr th:only-of-type {\n",
       "        vertical-align: middle;\n",
       "    }\n",
       "\n",
       "    .dataframe tbody tr th {\n",
       "        vertical-align: top;\n",
       "    }\n",
       "\n",
       "    .dataframe thead th {\n",
       "        text-align: right;\n",
       "    }\n",
       "</style>\n",
       "<table border=\"1\" class=\"dataframe\">\n",
       "  <thead>\n",
       "    <tr style=\"text-align: right;\">\n",
       "      <th></th>\n",
       "      <th>count</th>\n",
       "    </tr>\n",
       "  </thead>\n",
       "  <tbody>\n",
       "    <tr>\n",
       "      <th>age</th>\n",
       "      <td>0</td>\n",
       "    </tr>\n",
       "    <tr>\n",
       "      <th>ed</th>\n",
       "      <td>0</td>\n",
       "    </tr>\n",
       "    <tr>\n",
       "      <th>employ</th>\n",
       "      <td>0</td>\n",
       "    </tr>\n",
       "    <tr>\n",
       "      <th>address</th>\n",
       "      <td>0</td>\n",
       "    </tr>\n",
       "    <tr>\n",
       "      <th>income</th>\n",
       "      <td>0</td>\n",
       "    </tr>\n",
       "    <tr>\n",
       "      <th>debtinc</th>\n",
       "      <td>0</td>\n",
       "    </tr>\n",
       "    <tr>\n",
       "      <th>creddebt</th>\n",
       "      <td>0</td>\n",
       "    </tr>\n",
       "    <tr>\n",
       "      <th>othdebt</th>\n",
       "      <td>0</td>\n",
       "    </tr>\n",
       "    <tr>\n",
       "      <th>default</th>\n",
       "      <td>150</td>\n",
       "    </tr>\n",
       "  </tbody>\n",
       "</table>\n",
       "</div>"
      ],
      "text/plain": [
       "          count\n",
       "age           0\n",
       "ed            0\n",
       "employ        0\n",
       "address       0\n",
       "income        0\n",
       "debtinc       0\n",
       "creddebt      0\n",
       "othdebt       0\n",
       "default     150"
      ]
     },
     "execution_count": 67,
     "metadata": {},
     "output_type": "execute_result"
    }
   ],
   "source": [
    "#missing values for the dataset\n",
    "missing_value=pd.DataFrame(df.isnull().sum()).rename(columns={0:'count'})\n",
    "missing_value"
   ]
  },
  {
   "cell_type": "markdown",
   "metadata": {},
   "source": [
    "# Observation"
   ]
  },
  {
   "cell_type": "markdown",
   "metadata": {},
   "source": [
    "<i>In all the 9 variables, we have 150 missing values in the default predictor which is our target or dependent variable. Since imputing data in a target variable could result into negative impact on our model, so we will drop observations associated with these 150 missing values.</i>"
   ]
  },
  {
   "cell_type": "code",
   "execution_count": 68,
   "metadata": {},
   "outputs": [],
   "source": [
    "#creating new dataframe with 700 observations\n",
    "df_new = pd.DataFrame(df[:700])"
   ]
  },
  {
   "cell_type": "code",
   "execution_count": 69,
   "metadata": {},
   "outputs": [
    {
     "data": {
      "text/plain": [
       "(700, 9)"
      ]
     },
     "execution_count": 69,
     "metadata": {},
     "output_type": "execute_result"
    }
   ],
   "source": [
    "#shape of new dataset\n",
    "df_new.shape"
   ]
  },
  {
   "cell_type": "code",
   "execution_count": 70,
   "metadata": {},
   "outputs": [
    {
     "data": {
      "text/html": [
       "<div>\n",
       "<style scoped>\n",
       "    .dataframe tbody tr th:only-of-type {\n",
       "        vertical-align: middle;\n",
       "    }\n",
       "\n",
       "    .dataframe tbody tr th {\n",
       "        vertical-align: top;\n",
       "    }\n",
       "\n",
       "    .dataframe thead th {\n",
       "        text-align: right;\n",
       "    }\n",
       "</style>\n",
       "<table border=\"1\" class=\"dataframe\">\n",
       "  <thead>\n",
       "    <tr style=\"text-align: right;\">\n",
       "      <th></th>\n",
       "      <th>age</th>\n",
       "      <th>ed</th>\n",
       "      <th>employ</th>\n",
       "      <th>address</th>\n",
       "      <th>income</th>\n",
       "      <th>debtinc</th>\n",
       "      <th>creddebt</th>\n",
       "      <th>othdebt</th>\n",
       "      <th>default</th>\n",
       "    </tr>\n",
       "  </thead>\n",
       "  <tbody>\n",
       "    <tr>\n",
       "      <th>count</th>\n",
       "      <td>700.000000</td>\n",
       "      <td>700.000000</td>\n",
       "      <td>700.000000</td>\n",
       "      <td>700.000000</td>\n",
       "      <td>700.000000</td>\n",
       "      <td>700.000000</td>\n",
       "      <td>700.000000</td>\n",
       "      <td>700.000000</td>\n",
       "      <td>700.000000</td>\n",
       "    </tr>\n",
       "    <tr>\n",
       "      <th>mean</th>\n",
       "      <td>34.860000</td>\n",
       "      <td>1.722857</td>\n",
       "      <td>8.388571</td>\n",
       "      <td>8.278571</td>\n",
       "      <td>45.601429</td>\n",
       "      <td>10.260571</td>\n",
       "      <td>1.553553</td>\n",
       "      <td>3.058209</td>\n",
       "      <td>0.261429</td>\n",
       "    </tr>\n",
       "    <tr>\n",
       "      <th>std</th>\n",
       "      <td>7.997342</td>\n",
       "      <td>0.928206</td>\n",
       "      <td>6.658039</td>\n",
       "      <td>6.824877</td>\n",
       "      <td>36.814226</td>\n",
       "      <td>6.827234</td>\n",
       "      <td>2.117197</td>\n",
       "      <td>3.287555</td>\n",
       "      <td>0.439727</td>\n",
       "    </tr>\n",
       "    <tr>\n",
       "      <th>min</th>\n",
       "      <td>20.000000</td>\n",
       "      <td>1.000000</td>\n",
       "      <td>0.000000</td>\n",
       "      <td>0.000000</td>\n",
       "      <td>14.000000</td>\n",
       "      <td>0.400000</td>\n",
       "      <td>0.011696</td>\n",
       "      <td>0.045584</td>\n",
       "      <td>0.000000</td>\n",
       "    </tr>\n",
       "    <tr>\n",
       "      <th>25%</th>\n",
       "      <td>29.000000</td>\n",
       "      <td>1.000000</td>\n",
       "      <td>3.000000</td>\n",
       "      <td>3.000000</td>\n",
       "      <td>24.000000</td>\n",
       "      <td>5.000000</td>\n",
       "      <td>0.369059</td>\n",
       "      <td>1.044178</td>\n",
       "      <td>0.000000</td>\n",
       "    </tr>\n",
       "    <tr>\n",
       "      <th>50%</th>\n",
       "      <td>34.000000</td>\n",
       "      <td>1.000000</td>\n",
       "      <td>7.000000</td>\n",
       "      <td>7.000000</td>\n",
       "      <td>34.000000</td>\n",
       "      <td>8.600000</td>\n",
       "      <td>0.854869</td>\n",
       "      <td>1.987567</td>\n",
       "      <td>0.000000</td>\n",
       "    </tr>\n",
       "    <tr>\n",
       "      <th>75%</th>\n",
       "      <td>40.000000</td>\n",
       "      <td>2.000000</td>\n",
       "      <td>12.000000</td>\n",
       "      <td>12.000000</td>\n",
       "      <td>55.000000</td>\n",
       "      <td>14.125000</td>\n",
       "      <td>1.901955</td>\n",
       "      <td>3.923065</td>\n",
       "      <td>1.000000</td>\n",
       "    </tr>\n",
       "    <tr>\n",
       "      <th>max</th>\n",
       "      <td>56.000000</td>\n",
       "      <td>5.000000</td>\n",
       "      <td>31.000000</td>\n",
       "      <td>34.000000</td>\n",
       "      <td>446.000000</td>\n",
       "      <td>41.300000</td>\n",
       "      <td>20.561310</td>\n",
       "      <td>27.033600</td>\n",
       "      <td>1.000000</td>\n",
       "    </tr>\n",
       "  </tbody>\n",
       "</table>\n",
       "</div>"
      ],
      "text/plain": [
       "              age          ed      employ     address      income     debtinc  \\\n",
       "count  700.000000  700.000000  700.000000  700.000000  700.000000  700.000000   \n",
       "mean    34.860000    1.722857    8.388571    8.278571   45.601429   10.260571   \n",
       "std      7.997342    0.928206    6.658039    6.824877   36.814226    6.827234   \n",
       "min     20.000000    1.000000    0.000000    0.000000   14.000000    0.400000   \n",
       "25%     29.000000    1.000000    3.000000    3.000000   24.000000    5.000000   \n",
       "50%     34.000000    1.000000    7.000000    7.000000   34.000000    8.600000   \n",
       "75%     40.000000    2.000000   12.000000   12.000000   55.000000   14.125000   \n",
       "max     56.000000    5.000000   31.000000   34.000000  446.000000   41.300000   \n",
       "\n",
       "         creddebt     othdebt     default  \n",
       "count  700.000000  700.000000  700.000000  \n",
       "mean     1.553553    3.058209    0.261429  \n",
       "std      2.117197    3.287555    0.439727  \n",
       "min      0.011696    0.045584    0.000000  \n",
       "25%      0.369059    1.044178    0.000000  \n",
       "50%      0.854869    1.987567    0.000000  \n",
       "75%      1.901955    3.923065    1.000000  \n",
       "max     20.561310   27.033600    1.000000  "
      ]
     },
     "execution_count": 70,
     "metadata": {},
     "output_type": "execute_result"
    }
   ],
   "source": [
    "#describing the new dataset\n",
    "df_new.describe()"
   ]
  },
  {
   "cell_type": "code",
   "execution_count": 71,
   "metadata": {},
   "outputs": [
    {
     "data": {
      "text/html": [
       "<div>\n",
       "<style scoped>\n",
       "    .dataframe tbody tr th:only-of-type {\n",
       "        vertical-align: middle;\n",
       "    }\n",
       "\n",
       "    .dataframe tbody tr th {\n",
       "        vertical-align: top;\n",
       "    }\n",
       "\n",
       "    .dataframe thead th {\n",
       "        text-align: right;\n",
       "    }\n",
       "</style>\n",
       "<table border=\"1\" class=\"dataframe\">\n",
       "  <thead>\n",
       "    <tr style=\"text-align: right;\">\n",
       "      <th></th>\n",
       "      <th>count</th>\n",
       "    </tr>\n",
       "  </thead>\n",
       "  <tbody>\n",
       "    <tr>\n",
       "      <th>age</th>\n",
       "      <td>0</td>\n",
       "    </tr>\n",
       "    <tr>\n",
       "      <th>ed</th>\n",
       "      <td>0</td>\n",
       "    </tr>\n",
       "    <tr>\n",
       "      <th>employ</th>\n",
       "      <td>0</td>\n",
       "    </tr>\n",
       "    <tr>\n",
       "      <th>address</th>\n",
       "      <td>0</td>\n",
       "    </tr>\n",
       "    <tr>\n",
       "      <th>income</th>\n",
       "      <td>0</td>\n",
       "    </tr>\n",
       "    <tr>\n",
       "      <th>debtinc</th>\n",
       "      <td>0</td>\n",
       "    </tr>\n",
       "    <tr>\n",
       "      <th>creddebt</th>\n",
       "      <td>0</td>\n",
       "    </tr>\n",
       "    <tr>\n",
       "      <th>othdebt</th>\n",
       "      <td>0</td>\n",
       "    </tr>\n",
       "    <tr>\n",
       "      <th>default</th>\n",
       "      <td>0</td>\n",
       "    </tr>\n",
       "  </tbody>\n",
       "</table>\n",
       "</div>"
      ],
      "text/plain": [
       "          count\n",
       "age           0\n",
       "ed            0\n",
       "employ        0\n",
       "address       0\n",
       "income        0\n",
       "debtinc       0\n",
       "creddebt      0\n",
       "othdebt       0\n",
       "default       0"
      ]
     },
     "execution_count": 71,
     "metadata": {},
     "output_type": "execute_result"
    }
   ],
   "source": [
    "#performing missing values analysis on a new dataset\n",
    "missing_value_new=pd.DataFrame(df_new.isnull().sum()).rename(columns={0:'count'})\n",
    "missing_value_new"
   ]
  },
  {
   "cell_type": "markdown",
   "metadata": {},
   "source": [
    "# Observation"
   ]
  },
  {
   "cell_type": "markdown",
   "metadata": {},
   "source": [
    "<i>Now we have a new dataset with 700 observations and 9 variables with no missing values.</i>"
   ]
  },
  {
   "cell_type": "markdown",
   "metadata": {},
   "source": [
    "# Splitting the data into train and test"
   ]
  },
  {
   "cell_type": "code",
   "execution_count": 72,
   "metadata": {},
   "outputs": [],
   "source": [
    "#dividing the data into train and test \n",
    "ran_split = np.random.rand(len(df_new)) < 0.8\n",
    "train = df_new[ran_split]\n",
    "test = df_new[~ran_split]"
   ]
  },
  {
   "cell_type": "code",
   "execution_count": 73,
   "metadata": {},
   "outputs": [
    {
     "data": {
      "text/plain": [
       "(565, 9)"
      ]
     },
     "execution_count": 73,
     "metadata": {},
     "output_type": "execute_result"
    }
   ],
   "source": [
    "#shape of train data\n",
    "train.shape"
   ]
  },
  {
   "cell_type": "code",
   "execution_count": 74,
   "metadata": {},
   "outputs": [
    {
     "data": {
      "text/plain": [
       "(135, 9)"
      ]
     },
     "execution_count": 74,
     "metadata": {},
     "output_type": "execute_result"
    }
   ],
   "source": [
    "#shape of test data\n",
    "test.shape"
   ]
  },
  {
   "cell_type": "code",
   "execution_count": 75,
   "metadata": {},
   "outputs": [
    {
     "data": {
      "text/html": [
       "<div>\n",
       "<style scoped>\n",
       "    .dataframe tbody tr th:only-of-type {\n",
       "        vertical-align: middle;\n",
       "    }\n",
       "\n",
       "    .dataframe tbody tr th {\n",
       "        vertical-align: top;\n",
       "    }\n",
       "\n",
       "    .dataframe thead th {\n",
       "        text-align: right;\n",
       "    }\n",
       "</style>\n",
       "<table border=\"1\" class=\"dataframe\">\n",
       "  <thead>\n",
       "    <tr style=\"text-align: right;\">\n",
       "      <th></th>\n",
       "      <th>age</th>\n",
       "      <th>ed</th>\n",
       "      <th>employ</th>\n",
       "      <th>address</th>\n",
       "      <th>income</th>\n",
       "      <th>debtinc</th>\n",
       "      <th>creddebt</th>\n",
       "      <th>othdebt</th>\n",
       "      <th>default</th>\n",
       "    </tr>\n",
       "  </thead>\n",
       "  <tbody>\n",
       "    <tr>\n",
       "      <th>0</th>\n",
       "      <td>41</td>\n",
       "      <td>3</td>\n",
       "      <td>17</td>\n",
       "      <td>12</td>\n",
       "      <td>176</td>\n",
       "      <td>9.3</td>\n",
       "      <td>11.359392</td>\n",
       "      <td>5.008608</td>\n",
       "      <td>1.0</td>\n",
       "    </tr>\n",
       "    <tr>\n",
       "      <th>1</th>\n",
       "      <td>27</td>\n",
       "      <td>1</td>\n",
       "      <td>10</td>\n",
       "      <td>6</td>\n",
       "      <td>31</td>\n",
       "      <td>17.3</td>\n",
       "      <td>1.362202</td>\n",
       "      <td>4.000798</td>\n",
       "      <td>0.0</td>\n",
       "    </tr>\n",
       "    <tr>\n",
       "      <th>2</th>\n",
       "      <td>40</td>\n",
       "      <td>1</td>\n",
       "      <td>15</td>\n",
       "      <td>14</td>\n",
       "      <td>55</td>\n",
       "      <td>5.5</td>\n",
       "      <td>0.856075</td>\n",
       "      <td>2.168925</td>\n",
       "      <td>0.0</td>\n",
       "    </tr>\n",
       "    <tr>\n",
       "      <th>4</th>\n",
       "      <td>24</td>\n",
       "      <td>2</td>\n",
       "      <td>2</td>\n",
       "      <td>0</td>\n",
       "      <td>28</td>\n",
       "      <td>17.3</td>\n",
       "      <td>1.787436</td>\n",
       "      <td>3.056564</td>\n",
       "      <td>1.0</td>\n",
       "    </tr>\n",
       "    <tr>\n",
       "      <th>6</th>\n",
       "      <td>39</td>\n",
       "      <td>1</td>\n",
       "      <td>20</td>\n",
       "      <td>9</td>\n",
       "      <td>67</td>\n",
       "      <td>30.6</td>\n",
       "      <td>3.833874</td>\n",
       "      <td>16.668126</td>\n",
       "      <td>0.0</td>\n",
       "    </tr>\n",
       "  </tbody>\n",
       "</table>\n",
       "</div>"
      ],
      "text/plain": [
       "   age  ed  employ  address  income  debtinc   creddebt    othdebt  default\n",
       "0   41   3      17       12     176      9.3  11.359392   5.008608      1.0\n",
       "1   27   1      10        6      31     17.3   1.362202   4.000798      0.0\n",
       "2   40   1      15       14      55      5.5   0.856075   2.168925      0.0\n",
       "4   24   2       2        0      28     17.3   1.787436   3.056564      1.0\n",
       "6   39   1      20        9      67     30.6   3.833874  16.668126      0.0"
      ]
     },
     "execution_count": 75,
     "metadata": {},
     "output_type": "execute_result"
    }
   ],
   "source": [
    "#exploring the train data\n",
    "train.head()"
   ]
  },
  {
   "cell_type": "code",
   "execution_count": 76,
   "metadata": {},
   "outputs": [
    {
     "data": {
      "text/html": [
       "<div>\n",
       "<style scoped>\n",
       "    .dataframe tbody tr th:only-of-type {\n",
       "        vertical-align: middle;\n",
       "    }\n",
       "\n",
       "    .dataframe tbody tr th {\n",
       "        vertical-align: top;\n",
       "    }\n",
       "\n",
       "    .dataframe thead th {\n",
       "        text-align: right;\n",
       "    }\n",
       "</style>\n",
       "<table border=\"1\" class=\"dataframe\">\n",
       "  <thead>\n",
       "    <tr style=\"text-align: right;\">\n",
       "      <th></th>\n",
       "      <th>age</th>\n",
       "      <th>ed</th>\n",
       "      <th>employ</th>\n",
       "      <th>address</th>\n",
       "      <th>income</th>\n",
       "      <th>debtinc</th>\n",
       "      <th>creddebt</th>\n",
       "      <th>othdebt</th>\n",
       "      <th>default</th>\n",
       "    </tr>\n",
       "  </thead>\n",
       "  <tbody>\n",
       "    <tr>\n",
       "      <th>3</th>\n",
       "      <td>41</td>\n",
       "      <td>1</td>\n",
       "      <td>15</td>\n",
       "      <td>14</td>\n",
       "      <td>120</td>\n",
       "      <td>2.9</td>\n",
       "      <td>2.658720</td>\n",
       "      <td>0.821280</td>\n",
       "      <td>0.0</td>\n",
       "    </tr>\n",
       "    <tr>\n",
       "      <th>5</th>\n",
       "      <td>41</td>\n",
       "      <td>2</td>\n",
       "      <td>5</td>\n",
       "      <td>5</td>\n",
       "      <td>25</td>\n",
       "      <td>10.2</td>\n",
       "      <td>0.392700</td>\n",
       "      <td>2.157300</td>\n",
       "      <td>0.0</td>\n",
       "    </tr>\n",
       "    <tr>\n",
       "      <th>7</th>\n",
       "      <td>43</td>\n",
       "      <td>1</td>\n",
       "      <td>12</td>\n",
       "      <td>11</td>\n",
       "      <td>38</td>\n",
       "      <td>3.6</td>\n",
       "      <td>0.128592</td>\n",
       "      <td>1.239408</td>\n",
       "      <td>0.0</td>\n",
       "    </tr>\n",
       "    <tr>\n",
       "      <th>15</th>\n",
       "      <td>36</td>\n",
       "      <td>2</td>\n",
       "      <td>9</td>\n",
       "      <td>6</td>\n",
       "      <td>49</td>\n",
       "      <td>8.6</td>\n",
       "      <td>0.817516</td>\n",
       "      <td>3.396484</td>\n",
       "      <td>1.0</td>\n",
       "    </tr>\n",
       "    <tr>\n",
       "      <th>17</th>\n",
       "      <td>43</td>\n",
       "      <td>1</td>\n",
       "      <td>23</td>\n",
       "      <td>19</td>\n",
       "      <td>72</td>\n",
       "      <td>7.6</td>\n",
       "      <td>1.181952</td>\n",
       "      <td>4.290048</td>\n",
       "      <td>0.0</td>\n",
       "    </tr>\n",
       "  </tbody>\n",
       "</table>\n",
       "</div>"
      ],
      "text/plain": [
       "    age  ed  employ  address  income  debtinc  creddebt   othdebt  default\n",
       "3    41   1      15       14     120      2.9  2.658720  0.821280      0.0\n",
       "5    41   2       5        5      25     10.2  0.392700  2.157300      0.0\n",
       "7    43   1      12       11      38      3.6  0.128592  1.239408      0.0\n",
       "15   36   2       9        6      49      8.6  0.817516  3.396484      1.0\n",
       "17   43   1      23       19      72      7.6  1.181952  4.290048      0.0"
      ]
     },
     "execution_count": 76,
     "metadata": {},
     "output_type": "execute_result"
    }
   ],
   "source": [
    "#exploring the test data\n",
    "test.head()"
   ]
  },
  {
   "cell_type": "markdown",
   "metadata": {},
   "source": [
    "# Observation"
   ]
  },
  {
   "cell_type": "markdown",
   "metadata": {},
   "source": [
    "<i>Through splitting the data, we have now 565 observations in the train data and 135 observations in the test data.</i>"
   ]
  },
  {
   "cell_type": "markdown",
   "metadata": {},
   "source": [
    "# Distribution of Target Variable in the Train Data"
   ]
  },
  {
   "cell_type": "markdown",
   "metadata": {},
   "source": [
    "# <i>Bar Graph</i>"
   ]
  },
  {
   "cell_type": "code",
   "execution_count": 77,
   "metadata": {},
   "outputs": [
    {
     "data": {
      "text/plain": [
       "<matplotlib.axes._subplots.AxesSubplot at 0x1448a457588>"
      ]
     },
     "execution_count": 77,
     "metadata": {},
     "output_type": "execute_result"
    },
    {
     "data": {
      "image/png": "[encoded data removed]",
      "text/plain": [
       "<Figure size 864x864 with 1 Axes>"
      ]
     },
     "metadata": {
      "needs_background": "light"
     },
     "output_type": "display_data"
    }
   ],
   "source": [
    "#generating the bar graph for both the classes of a target variable in the train data\n",
    "plt.figure(figsize = (12,12))\n",
    "plt.subplot(221)\n",
    "plt.title(\"Count of target classes\")\n",
    "sns.countplot(train.default)"
   ]
  },
  {
   "cell_type": "markdown",
   "metadata": {},
   "source": [
    "# Pie Chart"
   ]
  },
  {
   "cell_type": "code",
   "execution_count": 78,
   "metadata": {},
   "outputs": [
    {
     "data": {
      "image/png": "[encoded data removed]",
      "text/plain": [
       "<Figure size 432x288 with 1 Axes>"
      ]
     },
     "metadata": {},
     "output_type": "display_data"
    }
   ],
   "source": [
    "#generating the pie chart for both the classes of a target variable in the train data\n",
    "plt.pie(train.default.value_counts() , labels=[0,1] ,autopct='%1.2f%%' ,explode=(0,1) , shadow=True)\n",
    "plt.legend(['class 0','class 1'])\n",
    "plt.title(\"Percentage of target classes\")\n",
    "plt.show()"
   ]
  },
  {
   "cell_type": "markdown",
   "metadata": {},
   "source": [
    "# Observations"
   ]
  },
  {
   "cell_type": "markdown",
   "metadata": {},
   "source": [
    "<i>\n",
    "1. The dataset is imbalanced.<br/>\n",
    "2. The number of data points in class 0 is approximately 73%.<br/>\n",
    "3. The number of data points in class 1 is approximately 27%.<br/>\n",
    "4. The number of customers that will have a default status are comparatively less as compared to those who will have a non-default status.\n",
    "</i>"
   ]
  },
  {
   "cell_type": "markdown",
   "metadata": {},
   "source": [
    "# Splitting the train data into dependent and independent variables"
   ]
  },
  {
   "cell_type": "code",
   "execution_count": 79,
   "metadata": {},
   "outputs": [],
   "source": [
    "#dividing the training dataset into dependent and independent variables\n",
    "independent_var = [i for i in train.columns.values if i!='default']\n",
    "X = train[independent_var]\n",
    "Y = train.default"
   ]
  },
  {
   "cell_type": "code",
   "execution_count": 80,
   "metadata": {},
   "outputs": [
    {
     "data": {
      "text/plain": [
       "(565, 8)"
      ]
     },
     "execution_count": 80,
     "metadata": {},
     "output_type": "execute_result"
    }
   ],
   "source": [
    "#shape of independent variables\n",
    "X.shape"
   ]
  },
  {
   "cell_type": "code",
   "execution_count": 81,
   "metadata": {},
   "outputs": [
    {
     "data": {
      "text/html": [
       "<div>\n",
       "<style scoped>\n",
       "    .dataframe tbody tr th:only-of-type {\n",
       "        vertical-align: middle;\n",
       "    }\n",
       "\n",
       "    .dataframe tbody tr th {\n",
       "        vertical-align: top;\n",
       "    }\n",
       "\n",
       "    .dataframe thead th {\n",
       "        text-align: right;\n",
       "    }\n",
       "</style>\n",
       "<table border=\"1\" class=\"dataframe\">\n",
       "  <thead>\n",
       "    <tr style=\"text-align: right;\">\n",
       "      <th></th>\n",
       "      <th>age</th>\n",
       "      <th>ed</th>\n",
       "      <th>employ</th>\n",
       "      <th>address</th>\n",
       "      <th>income</th>\n",
       "      <th>debtinc</th>\n",
       "      <th>creddebt</th>\n",
       "      <th>othdebt</th>\n",
       "    </tr>\n",
       "  </thead>\n",
       "  <tbody>\n",
       "    <tr>\n",
       "      <th>0</th>\n",
       "      <td>41</td>\n",
       "      <td>3</td>\n",
       "      <td>17</td>\n",
       "      <td>12</td>\n",
       "      <td>176</td>\n",
       "      <td>9.3</td>\n",
       "      <td>11.359392</td>\n",
       "      <td>5.008608</td>\n",
       "    </tr>\n",
       "    <tr>\n",
       "      <th>1</th>\n",
       "      <td>27</td>\n",
       "      <td>1</td>\n",
       "      <td>10</td>\n",
       "      <td>6</td>\n",
       "      <td>31</td>\n",
       "      <td>17.3</td>\n",
       "      <td>1.362202</td>\n",
       "      <td>4.000798</td>\n",
       "    </tr>\n",
       "    <tr>\n",
       "      <th>2</th>\n",
       "      <td>40</td>\n",
       "      <td>1</td>\n",
       "      <td>15</td>\n",
       "      <td>14</td>\n",
       "      <td>55</td>\n",
       "      <td>5.5</td>\n",
       "      <td>0.856075</td>\n",
       "      <td>2.168925</td>\n",
       "    </tr>\n",
       "    <tr>\n",
       "      <th>4</th>\n",
       "      <td>24</td>\n",
       "      <td>2</td>\n",
       "      <td>2</td>\n",
       "      <td>0</td>\n",
       "      <td>28</td>\n",
       "      <td>17.3</td>\n",
       "      <td>1.787436</td>\n",
       "      <td>3.056564</td>\n",
       "    </tr>\n",
       "    <tr>\n",
       "      <th>6</th>\n",
       "      <td>39</td>\n",
       "      <td>1</td>\n",
       "      <td>20</td>\n",
       "      <td>9</td>\n",
       "      <td>67</td>\n",
       "      <td>30.6</td>\n",
       "      <td>3.833874</td>\n",
       "      <td>16.668126</td>\n",
       "    </tr>\n",
       "  </tbody>\n",
       "</table>\n",
       "</div>"
      ],
      "text/plain": [
       "   age  ed  employ  address  income  debtinc   creddebt    othdebt\n",
       "0   41   3      17       12     176      9.3  11.359392   5.008608\n",
       "1   27   1      10        6      31     17.3   1.362202   4.000798\n",
       "2   40   1      15       14      55      5.5   0.856075   2.168925\n",
       "4   24   2       2        0      28     17.3   1.787436   3.056564\n",
       "6   39   1      20        9      67     30.6   3.833874  16.668126"
      ]
     },
     "execution_count": 81,
     "metadata": {},
     "output_type": "execute_result"
    }
   ],
   "source": [
    "#exploring independent variable\n",
    "X.head()"
   ]
  },
  {
   "cell_type": "code",
   "execution_count": 82,
   "metadata": {},
   "outputs": [
    {
     "data": {
      "text/plain": [
       "(565,)"
      ]
     },
     "execution_count": 82,
     "metadata": {},
     "output_type": "execute_result"
    }
   ],
   "source": [
    "#shape of dependent variable\n",
    "Y.shape"
   ]
  },
  {
   "cell_type": "code",
   "execution_count": 83,
   "metadata": {},
   "outputs": [
    {
     "data": {
      "text/plain": [
       "0    1.0\n",
       "1    0.0\n",
       "2    0.0\n",
       "4    1.0\n",
       "6    0.0\n",
       "Name: default, dtype: float64"
      ]
     },
     "execution_count": 83,
     "metadata": {},
     "output_type": "execute_result"
    }
   ],
   "source": [
    "#exploring dependent variable\n",
    "Y.head()"
   ]
  },
  {
   "cell_type": "markdown",
   "metadata": {},
   "source": [
    "# Multicollinearity Analysis"
   ]
  },
  {
   "cell_type": "code",
   "execution_count": 84,
   "metadata": {},
   "outputs": [
    {
     "data": {
      "text/html": [
       "<div>\n",
       "<style scoped>\n",
       "    .dataframe tbody tr th:only-of-type {\n",
       "        vertical-align: middle;\n",
       "    }\n",
       "\n",
       "    .dataframe tbody tr th {\n",
       "        vertical-align: top;\n",
       "    }\n",
       "\n",
       "    .dataframe thead th {\n",
       "        text-align: right;\n",
       "    }\n",
       "</style>\n",
       "<table border=\"1\" class=\"dataframe\">\n",
       "  <thead>\n",
       "    <tr style=\"text-align: right;\">\n",
       "      <th></th>\n",
       "      <th>features</th>\n",
       "      <th>vif</th>\n",
       "    </tr>\n",
       "  </thead>\n",
       "  <tbody>\n",
       "    <tr>\n",
       "      <th>0</th>\n",
       "      <td>age</td>\n",
       "      <td>17.562240</td>\n",
       "    </tr>\n",
       "    <tr>\n",
       "      <th>1</th>\n",
       "      <td>ed</td>\n",
       "      <td>5.112207</td>\n",
       "    </tr>\n",
       "    <tr>\n",
       "      <th>2</th>\n",
       "      <td>employ</td>\n",
       "      <td>5.576546</td>\n",
       "    </tr>\n",
       "    <tr>\n",
       "      <th>3</th>\n",
       "      <td>address</td>\n",
       "      <td>3.569253</td>\n",
       "    </tr>\n",
       "    <tr>\n",
       "      <th>4</th>\n",
       "      <td>income</td>\n",
       "      <td>10.524638</td>\n",
       "    </tr>\n",
       "    <tr>\n",
       "      <th>5</th>\n",
       "      <td>debtinc</td>\n",
       "      <td>8.761947</td>\n",
       "    </tr>\n",
       "    <tr>\n",
       "      <th>6</th>\n",
       "      <td>creddebt</td>\n",
       "      <td>4.116065</td>\n",
       "    </tr>\n",
       "    <tr>\n",
       "      <th>7</th>\n",
       "      <td>othdebt</td>\n",
       "      <td>6.322753</td>\n",
       "    </tr>\n",
       "  </tbody>\n",
       "</table>\n",
       "</div>"
      ],
      "text/plain": [
       "   features        vif\n",
       "0       age  17.562240\n",
       "1        ed   5.112207\n",
       "2    employ   5.576546\n",
       "3   address   3.569253\n",
       "4    income  10.524638\n",
       "5   debtinc   8.761947\n",
       "6  creddebt   4.116065\n",
       "7   othdebt   6.322753"
      ]
     },
     "execution_count": 84,
     "metadata": {},
     "output_type": "execute_result"
    }
   ],
   "source": [
    "#function to calculate VIF(Variance Inflation Factor)\n",
    "VIF = pd.DataFrame()\n",
    "VIF[\"features\"] = X.columns\n",
    "VIF[\"vif\"] = [variance_inflation_factor(X.values, i) for i in range(X.shape[1])]\n",
    "VIF"
   ]
  },
  {
   "cell_type": "markdown",
   "metadata": {},
   "source": [
    "# Observation"
   ]
  },
  {
   "cell_type": "markdown",
   "metadata": {},
   "source": [
    "<i>Since no two variables have the same variance  inflation factor. So we can continue with our modelling with all the eight independent features.</i>"
   ]
  },
  {
   "cell_type": "markdown",
   "metadata": {},
   "source": [
    "# Distribution of Independent Variables"
   ]
  },
  {
   "cell_type": "code",
   "execution_count": 85,
   "metadata": {},
   "outputs": [],
   "source": [
    "#checking the distribution of independent variables\n",
    "def check_distribution(X):\n",
    "    fig = plt.figure(figsize=(15,15))\n",
    "    fig.subplots_adjust(hspace=0.4, wspace=0.4)\n",
    "    names =list(range(0,8))\n",
    "    for i , realindex in  enumerate(names,1):\n",
    "        ax = fig.add_subplot( 5,4, i)\n",
    "        sns.distplot(X.iloc[:,realindex] ,ax=ax)\n",
    "    plt.show()"
   ]
  },
  {
   "cell_type": "code",
   "execution_count": 86,
   "metadata": {},
   "outputs": [
    {
     "data": {
      "image/png": "[encoded data removed]",
      "text/plain": [
       "<Figure size 1080x1080 with 8 Axes>"
      ]
     },
     "metadata": {
      "needs_background": "light"
     },
     "output_type": "display_data"
    }
   ],
   "source": [
    "#pair plots\n",
    "check_distribution(X)"
   ]
  },
  {
   "cell_type": "markdown",
   "metadata": {},
   "source": [
    "# Observation"
   ]
  },
  {
   "cell_type": "markdown",
   "metadata": {},
   "source": [
    "<i>From the above plots, we can conclude that none of the independent variables are normally distributed.<br/> All the eight predictors are positive or right skewed.</i>"
   ]
  },
  {
   "cell_type": "markdown",
   "metadata": {},
   "source": [
    "# Outlier Analysis"
   ]
  },
  {
   "cell_type": "code",
   "execution_count": 87,
   "metadata": {},
   "outputs": [],
   "source": [
    "#box plot for checking outliers in the dataset\n",
    "def box_plot(data):\n",
    "    l = data.columns.values\n",
    "    number_of_columns=8\n",
    "    number_of_rows = len(l)-1/number_of_columns\n",
    "    plt.figure(figsize=(number_of_columns,5*number_of_rows))\n",
    "    for i in range(0,len(l)):\n",
    "        plt.subplot(number_of_rows + 1,number_of_columns,i+1)\n",
    "        sns.set_style('whitegrid')\n",
    "        sns.boxplot(df[l[i]],color='skyblue',orient='v')\n",
    "        plt.tight_layout()   "
   ]
  },
  {
   "cell_type": "code",
   "execution_count": 88,
   "metadata": {},
   "outputs": [
    {
     "data": {
      "image/png": "[encoded data removed]",
      "text/plain": [
       "<Figure size 576x2835 with 8 Axes>"
      ]
     },
     "metadata": {
      "needs_background": "light"
     },
     "output_type": "display_data"
    }
   ],
   "source": [
    "#checking the outliers in the dataset\n",
    "box_plot(X)"
   ]
  },
  {
   "cell_type": "markdown",
   "metadata": {},
   "source": [
    "# Observation"
   ]
  },
  {
   "cell_type": "markdown",
   "metadata": {},
   "source": [
    "<i>Data points which are below lower fence and above upper fence will be declared as outliers.</i>"
   ]
  },
  {
   "cell_type": "markdown",
   "metadata": {},
   "source": [
    "# Remove Outliers"
   ]
  },
  {
   "cell_type": "code",
   "execution_count": 89,
   "metadata": {},
   "outputs": [],
   "source": [
    "#function to replace outliers with NaN\n",
    "def remove_outlier_fillna(data ,var_list):\n",
    "    for i in var_list:\n",
    "        q75 ,q25 = np.percentile(data.loc[:,i] ,[75,25])\n",
    "        iqr =q75-q25\n",
    "        minimum = q25 -(1.5*iqr)\n",
    "        maximum =q75+(1.5*iqr)\n",
    "        print(i,\"iqr\",iqr,\"mimimum\",minimum ,\"maximum\",maximum,sep=\" : \")\n",
    "        data.loc[data[i]<minimum ,i]=np.nan\n",
    "        data.loc[data[i]>maximum ,i]=np.nan     \n",
    "    return data"
   ]
  },
  {
   "cell_type": "code",
   "execution_count": 90,
   "metadata": {},
   "outputs": [
    {
     "name": "stdout",
     "output_type": "stream",
     "text": [
      "age : iqr : 11.0 : mimimum : 12.5 : maximum : 56.5\n",
      "ed : iqr : 1.0 : mimimum : -0.5 : maximum : 3.5\n",
      "employ : iqr : 10.0 : mimimum : -12.0 : maximum : 28.0\n",
      "address : iqr : 10.0 : mimimum : -12.0 : maximum : 28.0\n",
      "income : iqr : 30.0 : mimimum : -21.0 : maximum : 99.0\n",
      "debtinc : iqr : 8.4 : mimimum : -7.200000000000001 : maximum : 26.400000000000002\n",
      "creddebt : iqr : 1.5448439999999999 : mimimum : -1.946196 : maximum : 4.23318\n",
      "othdebt : iqr : 2.797054 : mimimum : -3.1472350000000007 : maximum : 8.040981\n"
     ]
    }
   ],
   "source": [
    "#replace outliers with NaN\n",
    "selected_var = X.columns.values\n",
    "X = remove_outlier_fillna(X.copy() ,selected_var)"
   ]
  },
  {
   "cell_type": "markdown",
   "metadata": {},
   "source": [
    "# Missing Values Imputation"
   ]
  },
  {
   "cell_type": "code",
   "execution_count": 91,
   "metadata": {},
   "outputs": [
    {
     "name": "stdout",
     "output_type": "stream",
     "text": [
      "176\n"
     ]
    }
   ],
   "source": [
    "#total missing values\n",
    "print(X.isnull().sum().sum())"
   ]
  },
  {
   "cell_type": "code",
   "execution_count": 92,
   "metadata": {},
   "outputs": [
    {
     "name": "stdout",
     "output_type": "stream",
     "text": [
      "age         0.000000\n",
      "ed          5.840708\n",
      "employ      0.707965\n",
      "address     0.530973\n",
      "income      6.725664\n",
      "debtinc     2.654867\n",
      "creddebt    7.433628\n",
      "othdebt     7.256637\n",
      "dtype: float64\n"
     ]
    }
   ],
   "source": [
    "#missing value percentage\n",
    "print(X.isnull().mean()*100)"
   ]
  },
  {
   "cell_type": "markdown",
   "metadata": {},
   "source": [
    "# Standardization"
   ]
  },
  {
   "cell_type": "code",
   "execution_count": 93,
   "metadata": {},
   "outputs": [],
   "source": [
    "#function for scaling the dataset\n",
    "def std_data(data): \n",
    "    scaler =StandardScaler()\n",
    "    return pd.DataFrame(scaler.fit_transform(data) ,columns=data.columns)"
   ]
  },
  {
   "cell_type": "code",
   "execution_count": 94,
   "metadata": {},
   "outputs": [],
   "source": [
    "#standardizing the dataset\n",
    "X = std_data(X)"
   ]
  },
  {
   "cell_type": "markdown",
   "metadata": {},
   "source": [
    "# Model Training"
   ]
  },
  {
   "cell_type": "markdown",
   "metadata": {},
   "source": [
    "<i>We will use three models for training the dataset :-<br/>\n",
    "1. Logistic Regression<br/>\n",
    "2. Decision Tree<br/>\n",
    "3. XGBoost</i>"
   ]
  },
  {
   "cell_type": "markdown",
   "metadata": {},
   "source": [
    "# Generic Function"
   ]
  },
  {
   "cell_type": "code",
   "execution_count": 95,
   "metadata": {},
   "outputs": [],
   "source": [
    "#function to plot roc curve \n",
    "def roc_plot(Y_true ,Y_prob ,model=\"model\") :\n",
    "  fpr, tpr, thresholds =roc_curve(Y_true, Y_prob)\n",
    "  plt.plot(fpr, tpr)\n",
    "  plt.xlim([0.0, 1.0])\n",
    "  plt.ylim([0.0, 1.0])\n",
    "  plt.title('ROC curve for  %s'%model)\n",
    "  plt.xlabel('False Positive Rate (1 - Specificity)')\n",
    "  plt.ylabel('True Positive Rate (Sensitivity)')\n",
    "  plt.grid(True)\n",
    "  plt.show()\n",
    "  print('  AUC: %.3f' % auc(fpr,tpr))\n",
    "    \n",
    "#this function return a dictinary of model performance criteria\n",
    "def model_accuracy(conf_matrix): \n",
    "    model_pram={}\n",
    "    tn =conf_matrix.iloc[0,0]\n",
    "    tp =conf_matrix.iloc[1,1]\n",
    "    fp =conf_matrix.iloc[0,1]\n",
    "    fn =conf_matrix.iloc[1,0]\n",
    "    model_pram['precision'] =(tp)/(tp+fp)\n",
    "    model_pram['accuracy']  =(tp+tn)/(tp+tn+fp+fn)\n",
    "    model_pram['recall']  =(tp)/(tp+fn)\n",
    "    model_pram['specificity'] =(tn)/(tn +fp)\n",
    "    model_pram['fpr'] =(fp)/(fp+tn)\n",
    "    model_pram['fnr'] =(fn)/(fn+tp)\n",
    "    model_pram['f1'] =2*(( model_pram['precision'] *model_pram['recall'])/( model_pram['precision'] +model_pram['recall']))\n",
    "    return model_pram\n",
    "  \n",
    "#function to calculate confusion matrix \n",
    "def run_model(model_object, X,Y,model_name):\n",
    "    pred_prob = model_object.predict_proba(X)[:, 1] \n",
    "    y_pred=model_object.predict(X)\n",
    "    conf =pd.crosstab(Y,y_pred)  \n",
    "    print(model_accuracy(conf))\n",
    "    roc_plot(Y ,pred_prob ,model_name)\n",
    "    return conf"
   ]
  },
  {
   "cell_type": "markdown",
   "metadata": {},
   "source": [
    "# Logistic Regression"
   ]
  },
  {
   "cell_type": "code",
   "execution_count": 96,
   "metadata": {},
   "outputs": [],
   "source": [
    "#function for cleaning the dataset\n",
    "def clean_dataset(df):\n",
    "    assert isinstance(df, pd.DataFrame), \"df needs to be a pd.DataFrame\"\n",
    "    df.dropna(inplace=True)\n",
    "    indices_to_keep = ~df.isin([np.nan, np.inf, -np.inf]).any(1)\n",
    "    return df[indices_to_keep].astype(np.float64)"
   ]
  },
  {
   "cell_type": "code",
   "execution_count": 97,
   "metadata": {},
   "outputs": [
    {
     "data": {
      "text/html": [
       "<div>\n",
       "<style scoped>\n",
       "    .dataframe tbody tr th:only-of-type {\n",
       "        vertical-align: middle;\n",
       "    }\n",
       "\n",
       "    .dataframe tbody tr th {\n",
       "        vertical-align: top;\n",
       "    }\n",
       "\n",
       "    .dataframe thead th {\n",
       "        text-align: right;\n",
       "    }\n",
       "</style>\n",
       "<table border=\"1\" class=\"dataframe\">\n",
       "  <thead>\n",
       "    <tr style=\"text-align: right;\">\n",
       "      <th></th>\n",
       "      <th>age</th>\n",
       "      <th>ed</th>\n",
       "      <th>employ</th>\n",
       "      <th>address</th>\n",
       "      <th>income</th>\n",
       "      <th>debtinc</th>\n",
       "      <th>creddebt</th>\n",
       "      <th>othdebt</th>\n",
       "    </tr>\n",
       "  </thead>\n",
       "  <tbody>\n",
       "    <tr>\n",
       "      <th>1</th>\n",
       "      <td>-0.982675</td>\n",
       "      <td>-0.804246</td>\n",
       "      <td>0.281391</td>\n",
       "      <td>-0.346415</td>\n",
       "      <td>-0.372202</td>\n",
       "      <td>1.301211</td>\n",
       "      <td>0.293685</td>\n",
       "      <td>0.953084</td>\n",
       "    </tr>\n",
       "    <tr>\n",
       "      <th>2</th>\n",
       "      <td>0.649192</td>\n",
       "      <td>-0.804246</td>\n",
       "      <td>1.059028</td>\n",
       "      <td>0.824624</td>\n",
       "      <td>0.889892</td>\n",
       "      <td>-0.706554</td>\n",
       "      <td>-0.245126</td>\n",
       "      <td>-0.086069</td>\n",
       "    </tr>\n",
       "    <tr>\n",
       "      <th>3</th>\n",
       "      <td>-1.359259</td>\n",
       "      <td>0.584906</td>\n",
       "      <td>-0.962828</td>\n",
       "      <td>-1.224695</td>\n",
       "      <td>-0.529964</td>\n",
       "      <td>1.301211</td>\n",
       "      <td>0.746379</td>\n",
       "      <td>0.417455</td>\n",
       "    </tr>\n",
       "    <tr>\n",
       "      <th>5</th>\n",
       "      <td>-1.359259</td>\n",
       "      <td>-0.804246</td>\n",
       "      <td>-0.807301</td>\n",
       "      <td>-0.639175</td>\n",
       "      <td>-1.003249</td>\n",
       "      <td>2.509272</td>\n",
       "      <td>0.289582</td>\n",
       "      <td>0.542870</td>\n",
       "    </tr>\n",
       "    <tr>\n",
       "      <th>6</th>\n",
       "      <td>0.147079</td>\n",
       "      <td>-0.804246</td>\n",
       "      <td>-1.273883</td>\n",
       "      <td>0.678244</td>\n",
       "      <td>-0.687726</td>\n",
       "      <td>1.709569</td>\n",
       "      <td>1.800590</td>\n",
       "      <td>-0.098336</td>\n",
       "    </tr>\n",
       "    <tr>\n",
       "      <th>...</th>\n",
       "      <td>...</td>\n",
       "      <td>...</td>\n",
       "      <td>...</td>\n",
       "      <td>...</td>\n",
       "      <td>...</td>\n",
       "      <td>...</td>\n",
       "      <td>...</td>\n",
       "      <td>...</td>\n",
       "    </tr>\n",
       "    <tr>\n",
       "      <th>560</th>\n",
       "      <td>0.147079</td>\n",
       "      <td>0.584906</td>\n",
       "      <td>-0.340719</td>\n",
       "      <td>0.971004</td>\n",
       "      <td>-0.582551</td>\n",
       "      <td>-0.859688</td>\n",
       "      <td>-0.877498</td>\n",
       "      <td>-0.760537</td>\n",
       "    </tr>\n",
       "    <tr>\n",
       "      <th>561</th>\n",
       "      <td>-0.731618</td>\n",
       "      <td>0.584906</td>\n",
       "      <td>-0.340719</td>\n",
       "      <td>-0.639175</td>\n",
       "      <td>-0.898075</td>\n",
       "      <td>0.314343</td>\n",
       "      <td>-0.763128</td>\n",
       "      <td>-0.156081</td>\n",
       "    </tr>\n",
       "    <tr>\n",
       "      <th>562</th>\n",
       "      <td>-0.229505</td>\n",
       "      <td>-0.804246</td>\n",
       "      <td>1.059028</td>\n",
       "      <td>-0.785555</td>\n",
       "      <td>-0.319615</td>\n",
       "      <td>-0.349240</td>\n",
       "      <td>-0.633495</td>\n",
       "      <td>-0.215512</td>\n",
       "    </tr>\n",
       "    <tr>\n",
       "      <th>563</th>\n",
       "      <td>1.276833</td>\n",
       "      <td>-0.804246</td>\n",
       "      <td>1.681137</td>\n",
       "      <td>1.995664</td>\n",
       "      <td>2.046812</td>\n",
       "      <td>-0.213120</td>\n",
       "      <td>1.294819</td>\n",
       "      <td>1.046452</td>\n",
       "    </tr>\n",
       "    <tr>\n",
       "      <th>564</th>\n",
       "      <td>0.272607</td>\n",
       "      <td>-0.804246</td>\n",
       "      <td>0.592446</td>\n",
       "      <td>0.824624</td>\n",
       "      <td>0.311432</td>\n",
       "      <td>0.858822</td>\n",
       "      <td>2.031587</td>\n",
       "      <td>0.653863</td>\n",
       "    </tr>\n",
       "  </tbody>\n",
       "</table>\n",
       "<p>451 rows × 8 columns</p>\n",
       "</div>"
      ],
      "text/plain": [
       "          age        ed    employ   address    income   debtinc  creddebt  \\\n",
       "1   -0.982675 -0.804246  0.281391 -0.346415 -0.372202  1.301211  0.293685   \n",
       "2    0.649192 -0.804246  1.059028  0.824624  0.889892 -0.706554 -0.245126   \n",
       "3   -1.359259  0.584906 -0.962828 -1.224695 -0.529964  1.301211  0.746379   \n",
       "5   -1.359259 -0.804246 -0.807301 -0.639175 -1.003249  2.509272  0.289582   \n",
       "6    0.147079 -0.804246 -1.273883  0.678244 -0.687726  1.709569  1.800590   \n",
       "..        ...       ...       ...       ...       ...       ...       ...   \n",
       "560  0.147079  0.584906 -0.340719  0.971004 -0.582551 -0.859688 -0.877498   \n",
       "561 -0.731618  0.584906 -0.340719 -0.639175 -0.898075  0.314343 -0.763128   \n",
       "562 -0.229505 -0.804246  1.059028 -0.785555 -0.319615 -0.349240 -0.633495   \n",
       "563  1.276833 -0.804246  1.681137  1.995664  2.046812 -0.213120  1.294819   \n",
       "564  0.272607 -0.804246  0.592446  0.824624  0.311432  0.858822  2.031587   \n",
       "\n",
       "      othdebt  \n",
       "1    0.953084  \n",
       "2   -0.086069  \n",
       "3    0.417455  \n",
       "5    0.542870  \n",
       "6   -0.098336  \n",
       "..        ...  \n",
       "560 -0.760537  \n",
       "561 -0.156081  \n",
       "562 -0.215512  \n",
       "563  1.046452  \n",
       "564  0.653863  \n",
       "\n",
       "[451 rows x 8 columns]"
      ]
     },
     "execution_count": 97,
     "metadata": {},
     "output_type": "execute_result"
    }
   ],
   "source": [
    "#cleaning the independent variables\n",
    "clean_dataset(X)"
   ]
  },
  {
   "cell_type": "code",
   "execution_count": 98,
   "metadata": {},
   "outputs": [],
   "source": [
    "#reset the index of independent variables\n",
    "X=X.reset_index()"
   ]
  },
  {
   "cell_type": "code",
   "execution_count": 99,
   "metadata": {},
   "outputs": [
    {
     "data": {
      "text/html": [
       "<div>\n",
       "<style scoped>\n",
       "    .dataframe tbody tr th:only-of-type {\n",
       "        vertical-align: middle;\n",
       "    }\n",
       "\n",
       "    .dataframe tbody tr th {\n",
       "        vertical-align: top;\n",
       "    }\n",
       "\n",
       "    .dataframe thead th {\n",
       "        text-align: right;\n",
       "    }\n",
       "</style>\n",
       "<table border=\"1\" class=\"dataframe\">\n",
       "  <thead>\n",
       "    <tr style=\"text-align: right;\">\n",
       "      <th></th>\n",
       "      <th>index</th>\n",
       "      <th>age</th>\n",
       "      <th>ed</th>\n",
       "      <th>employ</th>\n",
       "      <th>address</th>\n",
       "      <th>income</th>\n",
       "      <th>debtinc</th>\n",
       "      <th>creddebt</th>\n",
       "      <th>othdebt</th>\n",
       "    </tr>\n",
       "  </thead>\n",
       "  <tbody>\n",
       "    <tr>\n",
       "      <th>0</th>\n",
       "      <td>1</td>\n",
       "      <td>-0.982675</td>\n",
       "      <td>-0.804246</td>\n",
       "      <td>0.281391</td>\n",
       "      <td>-0.346415</td>\n",
       "      <td>-0.372202</td>\n",
       "      <td>1.301211</td>\n",
       "      <td>0.293685</td>\n",
       "      <td>0.953084</td>\n",
       "    </tr>\n",
       "    <tr>\n",
       "      <th>1</th>\n",
       "      <td>2</td>\n",
       "      <td>0.649192</td>\n",
       "      <td>-0.804246</td>\n",
       "      <td>1.059028</td>\n",
       "      <td>0.824624</td>\n",
       "      <td>0.889892</td>\n",
       "      <td>-0.706554</td>\n",
       "      <td>-0.245126</td>\n",
       "      <td>-0.086069</td>\n",
       "    </tr>\n",
       "    <tr>\n",
       "      <th>2</th>\n",
       "      <td>3</td>\n",
       "      <td>-1.359259</td>\n",
       "      <td>0.584906</td>\n",
       "      <td>-0.962828</td>\n",
       "      <td>-1.224695</td>\n",
       "      <td>-0.529964</td>\n",
       "      <td>1.301211</td>\n",
       "      <td>0.746379</td>\n",
       "      <td>0.417455</td>\n",
       "    </tr>\n",
       "    <tr>\n",
       "      <th>3</th>\n",
       "      <td>5</td>\n",
       "      <td>-1.359259</td>\n",
       "      <td>-0.804246</td>\n",
       "      <td>-0.807301</td>\n",
       "      <td>-0.639175</td>\n",
       "      <td>-1.003249</td>\n",
       "      <td>2.509272</td>\n",
       "      <td>0.289582</td>\n",
       "      <td>0.542870</td>\n",
       "    </tr>\n",
       "    <tr>\n",
       "      <th>4</th>\n",
       "      <td>6</td>\n",
       "      <td>0.147079</td>\n",
       "      <td>-0.804246</td>\n",
       "      <td>-1.273883</td>\n",
       "      <td>0.678244</td>\n",
       "      <td>-0.687726</td>\n",
       "      <td>1.709569</td>\n",
       "      <td>1.800590</td>\n",
       "      <td>-0.098336</td>\n",
       "    </tr>\n",
       "  </tbody>\n",
       "</table>\n",
       "</div>"
      ],
      "text/plain": [
       "   index       age        ed    employ   address    income   debtinc  \\\n",
       "0      1 -0.982675 -0.804246  0.281391 -0.346415 -0.372202  1.301211   \n",
       "1      2  0.649192 -0.804246  1.059028  0.824624  0.889892 -0.706554   \n",
       "2      3 -1.359259  0.584906 -0.962828 -1.224695 -0.529964  1.301211   \n",
       "3      5 -1.359259 -0.804246 -0.807301 -0.639175 -1.003249  2.509272   \n",
       "4      6  0.147079 -0.804246 -1.273883  0.678244 -0.687726  1.709569   \n",
       "\n",
       "   creddebt   othdebt  \n",
       "0  0.293685  0.953084  \n",
       "1 -0.245126 -0.086069  \n",
       "2  0.746379  0.417455  \n",
       "3  0.289582  0.542870  \n",
       "4  1.800590 -0.098336  "
      ]
     },
     "execution_count": 99,
     "metadata": {},
     "output_type": "execute_result"
    }
   ],
   "source": [
    "#checking after resetting the index\n",
    "X.head()"
   ]
  },
  {
   "cell_type": "code",
   "execution_count": 100,
   "metadata": {},
   "outputs": [
    {
     "data": {
      "text/html": [
       "<div>\n",
       "<style scoped>\n",
       "    .dataframe tbody tr th:only-of-type {\n",
       "        vertical-align: middle;\n",
       "    }\n",
       "\n",
       "    .dataframe tbody tr th {\n",
       "        vertical-align: top;\n",
       "    }\n",
       "\n",
       "    .dataframe thead th {\n",
       "        text-align: right;\n",
       "    }\n",
       "</style>\n",
       "<table border=\"1\" class=\"dataframe\">\n",
       "  <thead>\n",
       "    <tr style=\"text-align: right;\">\n",
       "      <th></th>\n",
       "      <th>age</th>\n",
       "      <th>ed</th>\n",
       "      <th>employ</th>\n",
       "      <th>address</th>\n",
       "      <th>income</th>\n",
       "      <th>debtinc</th>\n",
       "      <th>creddebt</th>\n",
       "      <th>othdebt</th>\n",
       "    </tr>\n",
       "  </thead>\n",
       "  <tbody>\n",
       "    <tr>\n",
       "      <th>0</th>\n",
       "      <td>-0.982675</td>\n",
       "      <td>-0.804246</td>\n",
       "      <td>0.281391</td>\n",
       "      <td>-0.346415</td>\n",
       "      <td>-0.372202</td>\n",
       "      <td>1.301211</td>\n",
       "      <td>0.293685</td>\n",
       "      <td>0.953084</td>\n",
       "    </tr>\n",
       "    <tr>\n",
       "      <th>1</th>\n",
       "      <td>0.649192</td>\n",
       "      <td>-0.804246</td>\n",
       "      <td>1.059028</td>\n",
       "      <td>0.824624</td>\n",
       "      <td>0.889892</td>\n",
       "      <td>-0.706554</td>\n",
       "      <td>-0.245126</td>\n",
       "      <td>-0.086069</td>\n",
       "    </tr>\n",
       "    <tr>\n",
       "      <th>2</th>\n",
       "      <td>-1.359259</td>\n",
       "      <td>0.584906</td>\n",
       "      <td>-0.962828</td>\n",
       "      <td>-1.224695</td>\n",
       "      <td>-0.529964</td>\n",
       "      <td>1.301211</td>\n",
       "      <td>0.746379</td>\n",
       "      <td>0.417455</td>\n",
       "    </tr>\n",
       "    <tr>\n",
       "      <th>3</th>\n",
       "      <td>-1.359259</td>\n",
       "      <td>-0.804246</td>\n",
       "      <td>-0.807301</td>\n",
       "      <td>-0.639175</td>\n",
       "      <td>-1.003249</td>\n",
       "      <td>2.509272</td>\n",
       "      <td>0.289582</td>\n",
       "      <td>0.542870</td>\n",
       "    </tr>\n",
       "    <tr>\n",
       "      <th>4</th>\n",
       "      <td>0.147079</td>\n",
       "      <td>-0.804246</td>\n",
       "      <td>-1.273883</td>\n",
       "      <td>0.678244</td>\n",
       "      <td>-0.687726</td>\n",
       "      <td>1.709569</td>\n",
       "      <td>1.800590</td>\n",
       "      <td>-0.098336</td>\n",
       "    </tr>\n",
       "    <tr>\n",
       "      <th>...</th>\n",
       "      <td>...</td>\n",
       "      <td>...</td>\n",
       "      <td>...</td>\n",
       "      <td>...</td>\n",
       "      <td>...</td>\n",
       "      <td>...</td>\n",
       "      <td>...</td>\n",
       "      <td>...</td>\n",
       "    </tr>\n",
       "    <tr>\n",
       "      <th>446</th>\n",
       "      <td>0.147079</td>\n",
       "      <td>0.584906</td>\n",
       "      <td>-0.340719</td>\n",
       "      <td>0.971004</td>\n",
       "      <td>-0.582551</td>\n",
       "      <td>-0.859688</td>\n",
       "      <td>-0.877498</td>\n",
       "      <td>-0.760537</td>\n",
       "    </tr>\n",
       "    <tr>\n",
       "      <th>447</th>\n",
       "      <td>-0.731618</td>\n",
       "      <td>0.584906</td>\n",
       "      <td>-0.340719</td>\n",
       "      <td>-0.639175</td>\n",
       "      <td>-0.898075</td>\n",
       "      <td>0.314343</td>\n",
       "      <td>-0.763128</td>\n",
       "      <td>-0.156081</td>\n",
       "    </tr>\n",
       "    <tr>\n",
       "      <th>448</th>\n",
       "      <td>-0.229505</td>\n",
       "      <td>-0.804246</td>\n",
       "      <td>1.059028</td>\n",
       "      <td>-0.785555</td>\n",
       "      <td>-0.319615</td>\n",
       "      <td>-0.349240</td>\n",
       "      <td>-0.633495</td>\n",
       "      <td>-0.215512</td>\n",
       "    </tr>\n",
       "    <tr>\n",
       "      <th>449</th>\n",
       "      <td>1.276833</td>\n",
       "      <td>-0.804246</td>\n",
       "      <td>1.681137</td>\n",
       "      <td>1.995664</td>\n",
       "      <td>2.046812</td>\n",
       "      <td>-0.213120</td>\n",
       "      <td>1.294819</td>\n",
       "      <td>1.046452</td>\n",
       "    </tr>\n",
       "    <tr>\n",
       "      <th>450</th>\n",
       "      <td>0.272607</td>\n",
       "      <td>-0.804246</td>\n",
       "      <td>0.592446</td>\n",
       "      <td>0.824624</td>\n",
       "      <td>0.311432</td>\n",
       "      <td>0.858822</td>\n",
       "      <td>2.031587</td>\n",
       "      <td>0.653863</td>\n",
       "    </tr>\n",
       "  </tbody>\n",
       "</table>\n",
       "<p>451 rows × 8 columns</p>\n",
       "</div>"
      ],
      "text/plain": [
       "          age        ed    employ   address    income   debtinc  creddebt  \\\n",
       "0   -0.982675 -0.804246  0.281391 -0.346415 -0.372202  1.301211  0.293685   \n",
       "1    0.649192 -0.804246  1.059028  0.824624  0.889892 -0.706554 -0.245126   \n",
       "2   -1.359259  0.584906 -0.962828 -1.224695 -0.529964  1.301211  0.746379   \n",
       "3   -1.359259 -0.804246 -0.807301 -0.639175 -1.003249  2.509272  0.289582   \n",
       "4    0.147079 -0.804246 -1.273883  0.678244 -0.687726  1.709569  1.800590   \n",
       "..        ...       ...       ...       ...       ...       ...       ...   \n",
       "446  0.147079  0.584906 -0.340719  0.971004 -0.582551 -0.859688 -0.877498   \n",
       "447 -0.731618  0.584906 -0.340719 -0.639175 -0.898075  0.314343 -0.763128   \n",
       "448 -0.229505 -0.804246  1.059028 -0.785555 -0.319615 -0.349240 -0.633495   \n",
       "449  1.276833 -0.804246  1.681137  1.995664  2.046812 -0.213120  1.294819   \n",
       "450  0.272607 -0.804246  0.592446  0.824624  0.311432  0.858822  2.031587   \n",
       "\n",
       "      othdebt  \n",
       "0    0.953084  \n",
       "1   -0.086069  \n",
       "2    0.417455  \n",
       "3    0.542870  \n",
       "4   -0.098336  \n",
       "..        ...  \n",
       "446 -0.760537  \n",
       "447 -0.156081  \n",
       "448 -0.215512  \n",
       "449  1.046452  \n",
       "450  0.653863  \n",
       "\n",
       "[451 rows x 8 columns]"
      ]
     },
     "execution_count": 100,
     "metadata": {},
     "output_type": "execute_result"
    }
   ],
   "source": [
    "#drop index column\n",
    "X=X.drop(['index'], axis = 1) \n",
    "X"
   ]
  },
  {
   "cell_type": "code",
   "execution_count": 101,
   "metadata": {},
   "outputs": [
    {
     "data": {
      "text/plain": [
       "0      1.0\n",
       "1      0.0\n",
       "2      0.0\n",
       "4      1.0\n",
       "6      0.0\n",
       "      ... \n",
       "550    1.0\n",
       "551    1.0\n",
       "553    0.0\n",
       "554    0.0\n",
       "556    0.0\n",
       "Name: default, Length: 451, dtype: float64"
      ]
     },
     "execution_count": 101,
     "metadata": {},
     "output_type": "execute_result"
    }
   ],
   "source": [
    "#creating the subset of target variable\n",
    "y=Y.head(451)\n",
    "y"
   ]
  },
  {
   "cell_type": "code",
   "execution_count": 102,
   "metadata": {},
   "outputs": [],
   "source": [
    "#reset the index of dependent variable\n",
    "Y=y.reset_index()"
   ]
  },
  {
   "cell_type": "code",
   "execution_count": 103,
   "metadata": {},
   "outputs": [
    {
     "data": {
      "text/html": [
       "<div>\n",
       "<style scoped>\n",
       "    .dataframe tbody tr th:only-of-type {\n",
       "        vertical-align: middle;\n",
       "    }\n",
       "\n",
       "    .dataframe tbody tr th {\n",
       "        vertical-align: top;\n",
       "    }\n",
       "\n",
       "    .dataframe thead th {\n",
       "        text-align: right;\n",
       "    }\n",
       "</style>\n",
       "<table border=\"1\" class=\"dataframe\">\n",
       "  <thead>\n",
       "    <tr style=\"text-align: right;\">\n",
       "      <th></th>\n",
       "      <th>index</th>\n",
       "      <th>default</th>\n",
       "    </tr>\n",
       "  </thead>\n",
       "  <tbody>\n",
       "    <tr>\n",
       "      <th>0</th>\n",
       "      <td>0</td>\n",
       "      <td>1.0</td>\n",
       "    </tr>\n",
       "    <tr>\n",
       "      <th>1</th>\n",
       "      <td>1</td>\n",
       "      <td>0.0</td>\n",
       "    </tr>\n",
       "    <tr>\n",
       "      <th>2</th>\n",
       "      <td>2</td>\n",
       "      <td>0.0</td>\n",
       "    </tr>\n",
       "    <tr>\n",
       "      <th>3</th>\n",
       "      <td>4</td>\n",
       "      <td>1.0</td>\n",
       "    </tr>\n",
       "    <tr>\n",
       "      <th>4</th>\n",
       "      <td>6</td>\n",
       "      <td>0.0</td>\n",
       "    </tr>\n",
       "  </tbody>\n",
       "</table>\n",
       "</div>"
      ],
      "text/plain": [
       "   index  default\n",
       "0      0      1.0\n",
       "1      1      0.0\n",
       "2      2      0.0\n",
       "3      4      1.0\n",
       "4      6      0.0"
      ]
     },
     "execution_count": 103,
     "metadata": {},
     "output_type": "execute_result"
    }
   ],
   "source": [
    "#checking after resetting the index\n",
    "Y.head()"
   ]
  },
  {
   "cell_type": "code",
   "execution_count": 104,
   "metadata": {},
   "outputs": [
    {
     "data": {
      "text/html": [
       "<div>\n",
       "<style scoped>\n",
       "    .dataframe tbody tr th:only-of-type {\n",
       "        vertical-align: middle;\n",
       "    }\n",
       "\n",
       "    .dataframe tbody tr th {\n",
       "        vertical-align: top;\n",
       "    }\n",
       "\n",
       "    .dataframe thead th {\n",
       "        text-align: right;\n",
       "    }\n",
       "</style>\n",
       "<table border=\"1\" class=\"dataframe\">\n",
       "  <thead>\n",
       "    <tr style=\"text-align: right;\">\n",
       "      <th></th>\n",
       "      <th>default</th>\n",
       "    </tr>\n",
       "  </thead>\n",
       "  <tbody>\n",
       "    <tr>\n",
       "      <th>0</th>\n",
       "      <td>1.0</td>\n",
       "    </tr>\n",
       "    <tr>\n",
       "      <th>1</th>\n",
       "      <td>0.0</td>\n",
       "    </tr>\n",
       "    <tr>\n",
       "      <th>2</th>\n",
       "      <td>0.0</td>\n",
       "    </tr>\n",
       "    <tr>\n",
       "      <th>3</th>\n",
       "      <td>1.0</td>\n",
       "    </tr>\n",
       "    <tr>\n",
       "      <th>4</th>\n",
       "      <td>0.0</td>\n",
       "    </tr>\n",
       "    <tr>\n",
       "      <th>...</th>\n",
       "      <td>...</td>\n",
       "    </tr>\n",
       "    <tr>\n",
       "      <th>446</th>\n",
       "      <td>1.0</td>\n",
       "    </tr>\n",
       "    <tr>\n",
       "      <th>447</th>\n",
       "      <td>1.0</td>\n",
       "    </tr>\n",
       "    <tr>\n",
       "      <th>448</th>\n",
       "      <td>0.0</td>\n",
       "    </tr>\n",
       "    <tr>\n",
       "      <th>449</th>\n",
       "      <td>0.0</td>\n",
       "    </tr>\n",
       "    <tr>\n",
       "      <th>450</th>\n",
       "      <td>0.0</td>\n",
       "    </tr>\n",
       "  </tbody>\n",
       "</table>\n",
       "<p>451 rows × 1 columns</p>\n",
       "</div>"
      ],
      "text/plain": [
       "     default\n",
       "0        1.0\n",
       "1        0.0\n",
       "2        0.0\n",
       "3        1.0\n",
       "4        0.0\n",
       "..       ...\n",
       "446      1.0\n",
       "447      1.0\n",
       "448      0.0\n",
       "449      0.0\n",
       "450      0.0\n",
       "\n",
       "[451 rows x 1 columns]"
      ]
     },
     "execution_count": 104,
     "metadata": {},
     "output_type": "execute_result"
    }
   ],
   "source": [
    "#drop index column\n",
    "Y=Y.drop(['index'], axis = 1) \n",
    "Y"
   ]
  },
  {
   "cell_type": "code",
   "execution_count": 105,
   "metadata": {},
   "outputs": [
    {
     "name": "stdout",
     "output_type": "stream",
     "text": [
      "{'precision': 0.30097087378640774, 'accuracy': 0.5609756097560976, 'recall': 0.5344827586206896, 'specificity': 0.5701492537313433, 'fpr': 0.4298507462686567, 'fnr': 0.46551724137931033, 'f1': 0.3850931677018633}\n"
     ]
    },
    {
     "data": {
      "image/png": "[encoded data removed]",
      "text/plain": [
       "<Figure size 432x288 with 1 Axes>"
      ]
     },
     "metadata": {},
     "output_type": "display_data"
    },
    {
     "name": "stdout",
     "output_type": "stream",
     "text": [
      "  AUC: 0.574\n"
     ]
    }
   ],
   "source": [
    "#applying logistic regression on the imbalanced dataset\n",
    "logit_model =LogisticRegression(class_weight='balanced')\n",
    "logit_model.fit(X,y)\n",
    "confMatrix=run_model(logit_model,X,y,\"Logistic Regression\")"
   ]
  },
  {
   "cell_type": "markdown",
   "metadata": {},
   "source": [
    "# Observations "
   ]
  },
  {
   "cell_type": "markdown",
   "metadata": {},
   "source": [
    "<table>\n",
    "<tr>\n",
    "     <th><i>Evaluation Metrics</i></th>\n",
    "     <th><i>Percentage Values</i></th>\n",
    " </tr> \n",
    "  <tr>\n",
    "     <td>Accuracy</td>\n",
    "     <td>56.09%</td>\n",
    " </tr> \n",
    " <tr>\n",
    "     <td>Recall</td>\n",
    "     <td>53.44%</td>\n",
    " </tr>\n",
    " <tr>\n",
    "     <td>Precision</td>\n",
    "     <td>30.09%</td>\n",
    " </tr>\n",
    " <tr>\n",
    "     <td>Specificity</td>\n",
    "     <td>57.01%</td>\n",
    " </tr>\n",
    " <tr>\n",
    "     <td>FPR</td>\n",
    "     <td>42.98%</td>\n",
    " </tr> \n",
    " <tr>\n",
    "     <td>FNR</td>\n",
    "     <td>46.55%</td>\n",
    " </tr> \n",
    " <tr>\n",
    "     <td>F1 Score</td>\n",
    "     <td>38.50%</td>\n",
    " </tr>\n",
    " <tr>\n",
    "     <td>AUC</td>\n",
    "     <td>57.4%</td>\n",
    " </tr>\n",
    "</table>    "
   ]
  },
  {
   "cell_type": "markdown",
   "metadata": {},
   "source": [
    "# Decision Tree"
   ]
  },
  {
   "cell_type": "code",
   "execution_count": 106,
   "metadata": {},
   "outputs": [
    {
     "name": "stdout",
     "output_type": "stream",
     "text": [
      "{'precision': 0.4779874213836478, 'accuracy': 0.7272727272727273, 'recall': 0.6551724137931034, 'specificity': 0.7522388059701492, 'fpr': 0.24776119402985075, 'fnr': 0.3448275862068966, 'f1': 0.5527272727272727}\n"
     ]
    },
    {
     "data": {
      "image/png": "[encoded data removed]",
      "text/plain": [
       "<Figure size 432x288 with 1 Axes>"
      ]
     },
     "metadata": {},
     "output_type": "display_data"
    },
    {
     "name": "stdout",
     "output_type": "stream",
     "text": [
      "  AUC: 0.779\n"
     ]
    }
   ],
   "source": [
    "#applying decision tree on the imbalanced dataset\n",
    "dt_model = DecisionTreeClassifier( max_depth= 5,class_weight='balanced')\n",
    "dt_model.fit(X,y)\n",
    "confMatrix=run_model(dt_model,X,y,\"Decision Tree\")"
   ]
  },
  {
   "cell_type": "markdown",
   "metadata": {},
   "source": [
    "# Observations"
   ]
  },
  {
   "cell_type": "markdown",
   "metadata": {},
   "source": [
    "<table>\n",
    "<tr>\n",
    "     <th><i>Evaluation Metrics</i></th>\n",
    "     <th><i>Percentage Values</i></th>\n",
    " </tr> \n",
    "  <tr>\n",
    "     <td>Accuracy</td>\n",
    "     <td>72.72%</td>\n",
    " </tr> \n",
    " <tr>\n",
    "     <td>Recall</td>\n",
    "     <td>65.51%</td>\n",
    " </tr>\n",
    " <tr>\n",
    "     <td>Precision</td>\n",
    "     <td>47.79%</td>\n",
    " </tr>\n",
    " <tr>\n",
    "     <td>Specificity</td>\n",
    "     <td>75.22%</td>\n",
    " </tr>\n",
    " <tr>\n",
    "     <td>FPR</td>\n",
    "     <td>24.77%</td>\n",
    " </tr> \n",
    " <tr>\n",
    "     <td>FNR</td>\n",
    "     <td>34.48%</td>\n",
    " </tr> \n",
    " <tr>\n",
    "     <td>F1 Score</td>\n",
    "     <td>55.27%</td>\n",
    " </tr>\n",
    " <tr>\n",
    "     <td>AUC</td>\n",
    "     <td>77.9%</td>\n",
    " </tr>\n",
    "</table>    "
   ]
  },
  {
   "cell_type": "markdown",
   "metadata": {},
   "source": [
    "# Random Forest"
   ]
  },
  {
   "cell_type": "code",
   "execution_count": 110,
   "metadata": {},
   "outputs": [
    {
     "name": "stdout",
     "output_type": "stream",
     "text": [
      "{'precision': 0.9607843137254902, 'accuracy': 0.9512195121951219, 'recall': 0.8448275862068966, 'specificity': 0.9880597014925373, 'fpr': 0.011940298507462687, 'fnr': 0.15517241379310345, 'f1': 0.8990825688073395}\n"
     ]
    },
    {
     "data": {
      "image/png": "[encoded data removed]",
      "text/plain": [
       "<Figure size 432x288 with 1 Axes>"
      ]
     },
     "metadata": {},
     "output_type": "display_data"
    },
    {
     "name": "stdout",
     "output_type": "stream",
     "text": [
      "  AUC: 0.986\n"
     ]
    }
   ],
   "source": [
    "#applying random forest on the imbalanced dataset\n",
    "rf_model = RandomForestClassifier(n_estimators = 5,class_weight='balanced')\n",
    "rf_model.fit(X,y)\n",
    "confMatrix=run_model(rf_model,X,y,\"Random Forest\")"
   ]
  },
  {
   "cell_type": "markdown",
   "metadata": {},
   "source": [
    "# Observations"
   ]
  },
  {
   "cell_type": "markdown",
   "metadata": {},
   "source": [
    "<table>\n",
    "<tr>\n",
    "     <th><i>Evaluation Metrics</i></th>\n",
    "     <th><i>Percentage Values</i></th>\n",
    " </tr> \n",
    "  <tr>\n",
    "     <td>Accuracy</td>\n",
    "     <td>95.12%</td>\n",
    " </tr> \n",
    " <tr>\n",
    "     <td>Recall</td>\n",
    "     <td>84.48%</td>\n",
    " </tr>\n",
    " <tr>\n",
    "     <td>Precision</td>\n",
    "     <td>96.07%</td>\n",
    " </tr>\n",
    " <tr>\n",
    "     <td>Specificity</td>\n",
    "     <td>98.80%</td>\n",
    " </tr>\n",
    " <tr>\n",
    "     <td>FPR</td>\n",
    "     <td>1.194%</td>\n",
    " </tr> \n",
    " <tr>\n",
    "     <td>FNR</td>\n",
    "     <td>15.51%</td>\n",
    " </tr> \n",
    " <tr>\n",
    "     <td>F1 Score</td>\n",
    "     <td>89.90%</td>\n",
    " </tr>\n",
    " <tr>\n",
    "     <td>AUC</td>\n",
    "     <td>98.6%</td>\n",
    " </tr>\n",
    "</table>    "
   ]
  },
  {
   "cell_type": "markdown",
   "metadata": {},
   "source": [
    "# Comparing all the three models"
   ]
  },
  {
   "cell_type": "markdown",
   "metadata": {},
   "source": [
    "<table>\n",
    "<tr>\n",
    "    <th></th>\n",
    "    <th>Accuracy</th>\n",
    "    <th>Recall</th>\n",
    "    <th>Precision</th>\n",
    "    <th>Specificity</th>\n",
    "    <th>FPR</th>\n",
    "    <th>FNR</th>\n",
    "    <th>F1 Score</th>\n",
    "    <th>AUC</th>\n",
    "</tr>\n",
    "    <tr></tr>\n",
    "<tr>\n",
    "    <th>Logistic Regression</th>\n",
    "    <td>0.5609</td>\n",
    "    <td>0.5344</td>\n",
    "    <td>0.3009</td>\n",
    "    <td>0.5701</td>\n",
    "    <td>0.4298</td>\n",
    "    <td>0.4655</td>\n",
    "    <td>0.3850</td>\n",
    "    <td>0.574</td>\n",
    "</tr>\n",
    "    <tr></tr>\n",
    "<tr>\n",
    "    <th>Decision Tree</th>\n",
    "    <td>0.7272</td>\n",
    "    <td>0.6551</td>\n",
    "    <td>0.4779</td>\n",
    "    <td>0.7522</td>\n",
    "    <td>0.2477</td>\n",
    "    <td>0.3448</td>\n",
    "    <td>0.5527</td>\n",
    "    <td>0.779</td>\n",
    "</tr>\n",
    "    <tr></tr>\n",
    "<tr>\n",
    "    <th>Random Forest</th>\n",
    "    <td>0.9512</td>\n",
    "    <td>0.8448</td>\n",
    "    <td>0.9607</td>\n",
    "    <td>0.9880</td>\n",
    "    <td>0.0119</td>\n",
    "    <td>0.1551</td>\n",
    "    <td>0.8990</td>\n",
    "    <td>0.986</td>\n",
    "</tr>\n",
    "</table>"
   ]
  },
  {
   "cell_type": "markdown",
   "metadata": {},
   "source": [
    "# Model Selection"
   ]
  },
  {
   "cell_type": "markdown",
   "metadata": {},
   "source": [
    "<i>The model should be selected based on the following parameters :-<br/>\n",
    "1. High Accuracy<br/>\n",
    "2. High F1 Score<br/>\n",
    "3. High AUC Score<br/>\n",
    "4. High Recall<br/>\n",
    "5. High Precision<br/>\n",
    "6. High Specificity<br/>\n",
    "7. Low FPR<br/>\n",
    "8. Low FNR"
   ]
  },
  {
   "cell_type": "markdown",
   "metadata": {},
   "source": [
    "# Freezed Model"
   ]
  },
  {
   "cell_type": "markdown",
   "metadata": {},
   "source": [
    "<i>Since Random Forest performs better than others models based on the above parameters, we will use Random Forest model for the test data.</i>"
   ]
  }
 ],
 "metadata": {
  "kernelspec": {
   "display_name": "Python 3",
   "language": "python",
   "name": "python3"
  },
  "language_info": {
   "codemirror_mode": {
    "name": "ipython",
    "version": 3
   },
   "file_extension": ".py",
   "mimetype": "text/x-python",
   "name": "python",
   "nbconvert_exporter": "python",
   "pygments_lexer": "ipython3",
   "version": "3.7.6"
  }
 },
 "nbformat": 4,
 "nbformat_minor": 4
}
